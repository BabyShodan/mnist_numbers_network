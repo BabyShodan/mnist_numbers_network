{
 "cells": [
  {
   "cell_type": "markdown",
   "metadata": {
    "pycharm": {
     "name": "#%% md\n"
    }
   },
   "source": [
    "# Neural network which detect numbers from photo"
   ]
  },
  {
   "cell_type": "markdown",
   "source": [
    "## Imports:"
   ],
   "metadata": {
    "collapsed": false,
    "pycharm": {
     "name": "#%% md\n"
    }
   }
  },
  {
   "cell_type": "code",
   "execution_count": 699,
   "metadata": {
    "collapsed": false,
    "jupyter": {
     "outputs_hidden": false
    },
    "pycharm": {
     "name": "#%%\n"
    }
   },
   "outputs": [
    {
     "name": "stdout",
     "output_type": "stream",
     "text": [
      "Versions:  ['numpy: 1.23.1', 'matplotlib: 3.5.1']\n"
     ]
    }
   ],
   "source": [
    "import datetime\n",
    "\n",
    "import numpy as np\n",
    "\n",
    "import matplotlib\n",
    "import matplotlib.pyplot as plt\n",
    "\n",
    "np.set_printoptions(suppress=True)\n",
    "print('Versions: ', [v.__name__ + ': ' + v.__version__ for v in [np, matplotlib]])"
   ]
  },
  {
   "cell_type": "markdown",
   "metadata": {
    "pycharm": {
     "name": "#%% md\n"
    }
   },
   "source": [
    "## Research Data:"
   ]
  },
  {
   "cell_type": "code",
   "execution_count": 700,
   "metadata": {
    "collapsed": false,
    "jupyter": {
     "outputs_hidden": false
    },
    "pycharm": {
     "name": "#%%\n"
    }
   },
   "outputs": [
    {
     "name": "stdout",
     "output_type": "stream",
     "text": [
      "Target: 5\n"
     ]
    },
    {
     "data": {
      "text/plain": "<matplotlib.image.AxesImage at 0x12ffe1340>"
     },
     "execution_count": 700,
     "metadata": {},
     "output_type": "execute_result"
    },
    {
     "data": {
      "text/plain": "<Figure size 432x288 with 1 Axes>",
      "image/png": "[encoded data removed]"
     },
     "metadata": {
      "needs_background": "light"
     },
     "output_type": "display_data"
    }
   ],
   "source": [
    "def collect_num_line(num: int, dataset: str) -> tuple:\n",
    "    \"\"\"Show line in file\"\"\"\n",
    "    i = 0\n",
    "    image_data = None\n",
    "    with open(dataset, 'r') as file:\n",
    "        for line in file:\n",
    "            image_data = line.split(',')\n",
    "            if i == num: break\n",
    "            i += 1\n",
    "        return int(image_data.pop(0)), np.asfarray(image_data).reshape(28, 28)\n",
    "\n",
    "target, array = collect_num_line(0,'mnist_dataset/mnist_train_100.csv')\n",
    "print(f'Target: {target}')\n",
    "plt.imshow(array, cmap='Greys', interpolation=None)"
   ]
  },
  {
   "cell_type": "code",
   "execution_count": 701,
   "metadata": {
    "collapsed": false,
    "jupyter": {
     "outputs_hidden": false
    },
    "pycharm": {
     "name": "#%%\n"
    }
   },
   "outputs": [],
   "source": [
    "# Data normalizing (switch from 0-255 to 0.01-1 selection)\n",
    "def convert(image_data: np.array):\n",
    "    scaled_input = (np.asfarray(image_data) / 255.0 * 0.99) + 0.01\n",
    "    return scaled_input"
   ]
  },
  {
   "cell_type": "markdown",
   "metadata": {
    "pycharm": {
     "name": "#%% md\n"
    }
   },
   "source": [
    "## Data implementation structure:"
   ]
  },
  {
   "cell_type": "code",
   "execution_count": 702,
   "metadata": {
    "collapsed": false,
    "jupyter": {
     "outputs_hidden": false
    },
    "pycharm": {
     "name": "#%%\n"
    }
   },
   "outputs": [],
   "source": [
    "class MnistNum:\n",
    "\n",
    "    def __init__(self, filename: str, field=0) -> None:\n",
    "        i = 0\n",
    "        image_data = None\n",
    "        with open(filename, 'r') as file:\n",
    "            for line in file:\n",
    "                image_data = line.split(',')\n",
    "                if i == field: break\n",
    "                i += 1\n",
    "\n",
    "        # Ready values:\n",
    "        self.marker = int(image_data.pop(0))\n",
    "        self.image = np.asfarray(image_data).reshape(28, 28)\n",
    "        self.input_image = ((np.asfarray(image_data) / 255.0) * 0.99) + 0.01\n",
    "        self.targets = np.zeros(10) + 0.01\n",
    "        self.targets[self.marker] = 0.99\n",
    "        \n",
    "        # Network representation\n",
    "        self.neural_answer = None\n",
    "        self.neural_outputs = None\n",
    "    \n",
    "    \n",
    "    def show(self) -> None:\n",
    "        print(f'Target: {self.marker}')\n",
    "        print(f'Answer: {self.neural_answer}')\n",
    "        print(f'Neural outputs: \\n{self.neural_outputs.T}')\n",
    "        plt.imshow(self.image, cmap='Greys', interpolation=None)\n",
    "        plt.show()\n",
    "\n",
    "\n",
    "    def __repr__(self) -> str:\n",
    "        pass\n",
    "    \n",
    "    \n",
    "    def __str__(self) -> str:\n",
    "        return f'Num: {self.marker}, Answer: {self.neural_answer}'\n",
    "\n",
    "#print('Normalized data: ', MnistNum('mnist_dataset/mnist_test_10.csv').input_image)"
   ]
  },
  {
   "cell_type": "markdown",
   "metadata": {
    "pycharm": {
     "name": "#%% md\n"
    }
   },
   "source": [
    "## Used formulas:\n",
    "#### Activation function:\n",
    "$$f(x) =  \\frac{\\mathrm{1} }{\\mathrm{1} + e^-x }$$\n",
    "#### Reverse error distribution with gradient:\n",
    "$$-(e_o) \\times  \\sigma( \\Sigma_i w_{io} o_i) \\times (1 - \\sigma(\\Sigma_i w_{io} o_i) \\times o_i$$"
   ]
  },
  {
   "cell_type": "markdown",
   "metadata": {
    "pycharm": {
     "name": "#%% md\n"
    }
   },
   "source": [
    "## Neural Network:"
   ]
  },
  {
   "cell_type": "code",
   "execution_count": 703,
   "metadata": {
    "collapsed": false,
    "jupyter": {
     "outputs_hidden": false
    },
    "pycharm": {
     "name": "#%%\n"
    }
   },
   "outputs": [],
   "source": [
    "class NeuralNetwork:\n",
    "\n",
    "    \n",
    "    @staticmethod\n",
    "    def activation_func(num: float) -> float:\n",
    "        # Sigmoid:\n",
    "        return 1 / (1 + np.exp(-num))\n",
    "\n",
    "\n",
    "    @staticmethod\n",
    "    def check_accuracy(network: object, ready_dataset: list) -> float:\n",
    "        correct = 0.0\n",
    "        for image in ready_dataset:\n",
    "            if image.marker == image.neural_answer:\n",
    "                correct += 1.0\n",
    "        network.accuracy = correct/len(ready_dataset)\n",
    "        return network.accuracy\n",
    "    \n",
    "\n",
    "    def __init__(self, inputs: int, hidden1: int, hidden2: int, output: int, learningspeed = 0.3) -> None:\n",
    "        self.innodes = inputs\n",
    "        self.hnnodes1 = hidden1\n",
    "        self.hnnodes2 = hidden2\n",
    "        self.ounodes = output\n",
    "        self.lr = learningspeed\n",
    "\n",
    "        # Initialize weights between nodes:\n",
    "        self.weights_in_hn1 = np.random.normal(0.0, (self.hnnodes1 ** -0.5),\n",
    "                                              (self.hnnodes1, self.innodes))\n",
    "        self.weights_hn1_hn2 = np.random.normal(0.0, (self.hnnodes2 ** -0.5),\n",
    "                                               (self.hnnodes2, self.hnnodes1))\n",
    "        self.weights_hn2_ou = np.random.normal(0.0, (self.ounodes ** -0.5),\n",
    "                                              (self.ounodes, self.hnnodes2))\n",
    "\n",
    "        self.trained = False\n",
    "        self.trained_time = None\n",
    "        self.accuracy = None\n",
    "\n",
    "\n",
    "    def __del__(self):\n",
    "        print('Bye Bye my little skynet ;(')\n",
    "    \n",
    "    \n",
    "    def __str__(self):\n",
    "        return f'Neural Network Object, with learning speed: {self.lr} and trained status: {self.trained}, Accuracy: {str(self.accuracy)[0:4:]}'\n",
    "    \n",
    "    \n",
    "    def __repr__(self):\n",
    "        return f'Object={type(self)}, \\\n",
    "                 \\nTrainedStatus={self.trained}, \\\n",
    "                 \\nSpeed={self.lr}, \\\n",
    "                 \\nAccuracy={self.accuracy}, \\\n",
    "                 \\nTimeTrained={self.trained_time}, \\\n",
    "                 \\nLayers=in{self.innodes}:hn{self.hnnodes1}:hn{self.hnnodes2}:ou{self.ounodes}'\n",
    "\n",
    " \n",
    "    def train(self, datapath: str, repeats: int) -> None:\n",
    "        start_time = datetime.datetime.now()\n",
    "        \n",
    "        for i in range(repeats):\n",
    "            image_data = MnistNum(datapath, i)\n",
    "            inputs = np.array(image_data.input_image, ndmin=2).T\n",
    "            targets = np.array(image_data.targets, ndmin=2).T\n",
    "\n",
    "            hidden_inputs1 = np.dot(self.weights_in_hn1, inputs)\n",
    "            hidden_outputs1 = self.activation_func(hidden_inputs1)\n",
    "\n",
    "            hidden_inputs2 =  np.dot(self.weights_hn1_hn2, hidden_outputs1)\n",
    "            hidden_outputs2 = self.activation_func(hidden_inputs2)\n",
    "\n",
    "            final_inputs = np.dot(self.weights_hn2_ou, hidden_outputs2)\n",
    "            final_outputs = self.activation_func(final_inputs)\n",
    "\n",
    "            output_errors = targets - final_outputs\n",
    "            hidden_errors2 = np.dot(self.weights_hn2_ou.T, output_errors)\n",
    "            hidden_errors1 = np.dot(self.weights_hn1_hn2.T, hidden_errors2)\n",
    "\n",
    "            # Reverse error distribution formula for network weights:\n",
    "            self.weights_in_hn1 += self.lr * np.dot(\n",
    "                (hidden_errors1 * hidden_outputs1 * (1.0 - hidden_outputs1)),\n",
    "                np.transpose(inputs))\n",
    "            self.weights_hn1_hn2 += self.lr * np.dot(\n",
    "                (hidden_errors2 * hidden_outputs2 * (1.0 - hidden_outputs2)),\n",
    "                np.transpose(hidden_outputs1))\n",
    "            self.weights_hn2_ou += self.lr * np.dot(\n",
    "                (output_errors * final_outputs * (1.0 - final_outputs)),\n",
    "                np.transpose(hidden_outputs2))\n",
    "            \n",
    "        self.trained = True\n",
    "        self.trained_time = str(datetime.datetime.now() - start_time).split(\".\")[0]\n",
    "\n",
    " \n",
    "    def query(self, datapath: str, repeats: int, list_images: list) -> None:\n",
    "        \n",
    "        # Multiply matrix's, sum and activate:\n",
    "        for i in range(repeats):\n",
    "            image_data = MnistNum(datapath, i)\n",
    "\n",
    "            list_images.append(image_data)\n",
    "\n",
    "            inputs = np.array(image_data.input_image, ndmin=2).T\n",
    "\n",
    "            hidden_inputs1 = np.dot(self.weights_in_hn1, inputs)\n",
    "            hidden_outputs1 = self.activation_func(hidden_inputs1)\n",
    "\n",
    "            hidden_inputs2 = np.dot(self.weights_hn1_hn2, hidden_outputs1)\n",
    "            hidden_outputs2 = self.activation_func(hidden_inputs2)\n",
    "\n",
    "            final_inputs = np.dot(self.weights_hn2_ou, hidden_outputs2)\n",
    "            final_outputs = self.activation_func(final_inputs)\n",
    "        \n",
    "            image_data.neural_outputs = final_outputs\n",
    "            image_data.neural_answer = np.unravel_index(final_outputs.argmax(), final_outputs.shape)[0]"
   ]
  },
  {
   "cell_type": "code",
   "execution_count": 704,
   "metadata": {
    "collapsed": false,
    "jupyter": {
     "outputs_hidden": false
    },
    "pycharm": {
     "name": "#%%\n"
    }
   },
   "outputs": [
    {
     "name": "stdout",
     "output_type": "stream",
     "text": [
      "Bye Bye my little skynet ;(\n"
     ]
    }
   ],
   "source": [
    "IMAGES = list()\n",
    "test = NeuralNetwork(784, 64, 32, 10, 0.2)\n",
    "test.train(datapath='mnist_dataset/mnist_train.csv', repeats=7500)\n",
    "test.query(datapath='mnist_dataset/mnist_test_10.csv', repeats=10, list_images=IMAGES)\n",
    "# Answer show array with a preferred chance [0,1,2,3,4,5,6,7,8,9]"
   ]
  },
  {
   "cell_type": "markdown",
   "metadata": {
    "pycharm": {
     "name": "#%% md\n"
    }
   },
   "source": [
    "## Answers:"
   ]
  },
  {
   "cell_type": "code",
   "execution_count": 705,
   "metadata": {
    "pycharm": {
     "name": "#%%\n"
    }
   },
   "outputs": [
    {
     "name": "stdout",
     "output_type": "stream",
     "text": [
      "Target: 7\n",
      "Answer: 7\n",
      "Neural outputs: \n",
      "[[0.0191761  0.00957258 0.0141965  0.00751164 0.00458367 0.00397813\n",
      "  0.00116507 0.96335221 0.00231921 0.04616152]]\n"
     ]
    },
    {
     "data": {
      "text/plain": "<Figure size 432x288 with 1 Axes>",
      "image/png": "[encoded data removed]"
     },
     "metadata": {
      "needs_background": "light"
     },
     "output_type": "display_data"
    },
    {
     "name": "stdout",
     "output_type": "stream",
     "text": [
      "Target: 2\n",
      "Answer: 2\n",
      "Neural outputs: \n",
      "[[0.04811781 0.00463205 0.37798816 0.05876327 0.0041582  0.15214256\n",
      "  0.329505   0.00053932 0.002988   0.00154342]]\n"
     ]
    },
    {
     "data": {
      "text/plain": "<Figure size 432x288 with 1 Axes>",
      "image/png": "[encoded data removed]"
     },
     "metadata": {
      "needs_background": "light"
     },
     "output_type": "display_data"
    },
    {
     "name": "stdout",
     "output_type": "stream",
     "text": [
      "Target: 1\n",
      "Answer: 1\n",
      "Neural outputs: \n",
      "[[0.00096931 0.95426072 0.06452315 0.01334059 0.00212728 0.02074668\n",
      "  0.0071742  0.00607513 0.03869962 0.00601842]]\n"
     ]
    },
    {
     "data": {
      "text/plain": "<Figure size 432x288 with 1 Axes>",
      "image/png": "[encoded data removed]"
     },
     "metadata": {
      "needs_background": "light"
     },
     "output_type": "display_data"
    },
    {
     "name": "stdout",
     "output_type": "stream",
     "text": [
      "Target: 0\n",
      "Answer: 0\n",
      "Neural outputs: \n",
      "[[0.96913263 0.00104924 0.0167731  0.01111368 0.00053847 0.03195558\n",
      "  0.02355451 0.03789309 0.00935205 0.008004  ]]\n"
     ]
    },
    {
     "data": {
      "text/plain": "<Figure size 432x288 with 1 Axes>",
      "image/png": "[encoded data removed]"
     },
     "metadata": {
      "needs_background": "light"
     },
     "output_type": "display_data"
    },
    {
     "name": "stdout",
     "output_type": "stream",
     "text": [
      "Target: 4\n",
      "Answer: 4\n",
      "Neural outputs: \n",
      "[[0.00845268 0.00036153 0.16117021 0.0069386  0.58696287 0.00841723\n",
      "  0.00656859 0.04123727 0.02232496 0.08862071]]\n"
     ]
    },
    {
     "data": {
      "text/plain": "<Figure size 432x288 with 1 Axes>",
      "image/png": "[encoded data removed]"
     },
     "metadata": {
      "needs_background": "light"
     },
     "output_type": "display_data"
    },
    {
     "name": "stdout",
     "output_type": "stream",
     "text": [
      "Target: 1\n",
      "Answer: 1\n",
      "Neural outputs: \n",
      "[[0.00099927 0.94346016 0.06594095 0.020331   0.00107064 0.02232005\n",
      "  0.00495238 0.00605445 0.05766106 0.00740332]]\n"
     ]
    },
    {
     "data": {
      "text/plain": "<Figure size 432x288 with 1 Axes>",
      "image/png": "[encoded data removed]"
     },
     "metadata": {
      "needs_background": "light"
     },
     "output_type": "display_data"
    },
    {
     "name": "stdout",
     "output_type": "stream",
     "text": [
      "Target: 4\n",
      "Answer: 4\n",
      "Neural outputs: \n",
      "[[0.00583207 0.00293467 0.00259295 0.0132635  0.76820825 0.23903814\n",
      "  0.00812404 0.0082561  0.03273216 0.10145253]]\n"
     ]
    },
    {
     "data": {
      "text/plain": "<Figure size 432x288 with 1 Axes>",
      "image/png": "[encoded data removed]"
     },
     "metadata": {
      "needs_background": "light"
     },
     "output_type": "display_data"
    },
    {
     "name": "stdout",
     "output_type": "stream",
     "text": [
      "Target: 9\n",
      "Answer: 5\n",
      "Neural outputs: \n",
      "[[0.00625228 0.00628368 0.00113973 0.03078977 0.22788906 0.57360033\n",
      "  0.01480616 0.00620539 0.02878318 0.13916658]]\n"
     ]
    },
    {
     "data": {
      "text/plain": "<Figure size 432x288 with 1 Axes>",
      "image/png": "[encoded data removed]"
     },
     "metadata": {
      "needs_background": "light"
     },
     "output_type": "display_data"
    },
    {
     "name": "stdout",
     "output_type": "stream",
     "text": [
      "Target: 5\n",
      "Answer: 5\n",
      "Neural outputs: \n",
      "[[0.22810479 0.00512772 0.00209814 0.03785272 0.00048816 0.4029619\n",
      "  0.0180564  0.12655015 0.00160582 0.00383177]]\n"
     ]
    },
    {
     "data": {
      "text/plain": "<Figure size 432x288 with 1 Axes>",
      "image/png": "[encoded data removed]"
     },
     "metadata": {
      "needs_background": "light"
     },
     "output_type": "display_data"
    },
    {
     "name": "stdout",
     "output_type": "stream",
     "text": [
      "Target: 9\n",
      "Answer: 7\n",
      "Neural outputs: \n",
      "[[0.02383248 0.00241981 0.00277664 0.00628552 0.08003523 0.00826889\n",
      "  0.00205763 0.44424354 0.00232817 0.3183973 ]]\n"
     ]
    },
    {
     "data": {
      "text/plain": "<Figure size 432x288 with 1 Axes>",
      "image/png": "[encoded data removed]"
     },
     "metadata": {
      "needs_background": "light"
     },
     "output_type": "display_data"
    }
   ],
   "source": [
    "for data in IMAGES:\n",
    "    data.show()"
   ]
  },
  {
   "cell_type": "markdown",
   "metadata": {
    "pycharm": {
     "name": "#%% md\n"
    }
   },
   "source": [
    "## Accuracy:"
   ]
  },
  {
   "cell_type": "code",
   "execution_count": 706,
   "metadata": {
    "pycharm": {
     "name": "#%%\n"
    }
   },
   "outputs": [
    {
     "name": "stdout",
     "output_type": "stream",
     "text": [
      "Accuracy: 0.8\n"
     ]
    }
   ],
   "source": [
    "print(f'Accuracy: {NeuralNetwork.check_accuracy(test, IMAGES)}')"
   ]
  },
  {
   "cell_type": "markdown",
   "source": [
    "## Neural Network metadata"
   ],
   "metadata": {
    "collapsed": false,
    "pycharm": {
     "name": "#%% md\n"
    }
   }
  },
  {
   "cell_type": "code",
   "execution_count": 707,
   "metadata": {
    "pycharm": {
     "name": "#%%\n"
    }
   },
   "outputs": [
    {
     "name": "stdout",
     "output_type": "stream",
     "text": [
      "Neural Network Object, with learning speed: 0.2 and trained status: True, Accuracy: 0.8\n"
     ]
    }
   ],
   "source": [
    "print(test)"
   ]
  },
  {
   "cell_type": "code",
   "execution_count": 708,
   "metadata": {
    "pycharm": {
     "name": "#%%\n"
    }
   },
   "outputs": [
    {
     "name": "stdout",
     "output_type": "stream",
     "text": [
      "Object=<class '__main__.NeuralNetwork'>,                  \n",
      "TrainedStatus=True,                  \n",
      "Speed=0.2,                  \n",
      "Accuracy=0.8,                  \n",
      "TimeTrained=0:10:29,                  \n",
      "Layers=in784:hn64:hn32:ou10\n"
     ]
    }
   ],
   "source": [
    "print(repr(test))"
   ]
  }
 ],
 "metadata": {
  "kernelspec": {
   "display_name": "Python 3 (ipykernel)",
   "language": "python",
   "name": "python3"
  },
  "language_info": {
   "codemirror_mode": {
    "name": "ipython",
    "version": 3
   },
   "file_extension": ".py",
   "mimetype": "text/x-python",
   "name": "python",
   "nbconvert_exporter": "python",
   "pygments_lexer": "ipython3",
   "version": "3.9.12"
  }
 },
 "nbformat": 4,
 "nbformat_minor": 4
}