{
 "cells": [
  {
   "cell_type": "markdown",
   "metadata": {
    "pycharm": {
     "name": "#%% md\n"
    }
   },
   "source": [
    "# Neural network which detect numbers from photo"
   ]
  },
  {
   "cell_type": "code",
   "execution_count": 42,
   "metadata": {
    "collapsed": false,
    "jupyter": {
     "outputs_hidden": false
    },
    "pycharm": {
     "name": "#%%\n"
    }
   },
   "outputs": [
    {
     "name": "stdout",
     "output_type": "stream",
     "text": [
      "Versions:  ['numpy: 1.21.5', 'matplotlib: 3.5.1']\n"
     ]
    }
   ],
   "source": [
    "import numpy as np\n",
    "import matplotlib\n",
    "import matplotlib.pyplot as plt\n",
    "print('Versions: ', [v.__name__ + ': ' + v.__version__ for v in [np, matplotlib]])"
   ]
  },
  {
   "cell_type": "markdown",
   "metadata": {
    "pycharm": {
     "name": "#%% md\n"
    }
   },
   "source": [
    "## Research Data:"
   ]
  },
  {
   "cell_type": "code",
   "execution_count": 43,
   "outputs": [
    {
     "name": "stdout",
     "output_type": "stream",
     "text": [
      "Target: 5\n"
     ]
    },
    {
     "data": {
      "text/plain": "<matplotlib.image.AxesImage at 0x11f0c7880>"
     },
     "execution_count": 43,
     "metadata": {},
     "output_type": "execute_result"
    },
    {
     "data": {
      "text/plain": "<Figure size 432x288 with 1 Axes>",
      "image/png": "[encoded data removed]"
     },
     "metadata": {
      "needs_background": "light"
     },
     "output_type": "display_data"
    }
   ],
   "source": [
    "def collect_num_line(num: int, dataset: str) -> tuple:\n",
    "    \"\"\"Show line in file\"\"\"\n",
    "    i = 0\n",
    "    data = None\n",
    "    with open(dataset, 'r') as file:\n",
    "        for line in file:\n",
    "            data = line.split(',')\n",
    "            if i == num: break\n",
    "            i += 1\n",
    "        return int(data.pop(0)), np.asfarray(data).reshape(28,28)\n",
    "\n",
    "target, array = collect_num_line(0,'mnist_dataset/mnist_train_100.csv')\n",
    "print(f'Target: {target}')\n",
    "plt.imshow(array, cmap='Greys', interpolation=None)"
   ],
   "metadata": {
    "collapsed": false,
    "pycharm": {
     "name": "#%%\n"
    }
   }
  },
  {
   "cell_type": "code",
   "execution_count": 44,
   "metadata": {
    "collapsed": false,
    "jupyter": {
     "outputs_hidden": false
    },
    "pycharm": {
     "name": "#%%\n"
    }
   },
   "outputs": [],
   "source": [
    "# Data normalizing (switch from 0-255 to 0.01-1 selection)\n",
    "def convert(data: np.array):\n",
    "    scaled_input = (np.asfarray(data) / 255.0 * 0.99) + 0.01\n",
    "    return scaled_input"
   ]
  },
  {
   "cell_type": "markdown",
   "metadata": {
    "pycharm": {
     "name": "#%% md\n"
    }
   },
   "source": [
    "## Data implementation structure:"
   ]
  },
  {
   "cell_type": "code",
   "execution_count": null,
   "metadata": {
    "collapsed": false,
    "jupyter": {
     "outputs_hidden": false
    },
    "pycharm": {
     "name": "#%%\n",
     "is_executing": true
    }
   },
   "outputs": [],
   "source": [
    "class MnistNum:\n",
    "\n",
    "    def __init__(self, filename: str, field=0) -> None:\n",
    "        i = 0\n",
    "        data = None\n",
    "        with open(filename, 'r') as file:\n",
    "            for line in file:\n",
    "                data = line.split(',')\n",
    "                if i == field: break\n",
    "                i += 1\n",
    "\n",
    "        # Ready values:\n",
    "        self.marker = int(data.pop(0))\n",
    "        self.image = np.asfarray(data).reshape(28,28)\n",
    "        self.input_image = (np.asfarray(data) / 255.0 * 0.99) + 0.01\n",
    "        self.targets = np.zeros(10) + 0.01\n",
    "        self.targets[self.marker] = 0.99\n",
    "\n",
    "#print('Normalized data: ', MnistNum('mnist_dataset/mnist_test_10.csv').input_image)"
   ]
  },
  {
   "cell_type": "markdown",
   "source": [
    "## Used formulas:\n",
    "#### Activation function:\n",
    "$$f(x) =  \\frac{\\mathrm{1} }{\\mathrm{1} + e^-x }$$\n",
    "#### Reverse error distribution with gradient:\n",
    "$$-(e_o) \\times  \\sigma( \\Sigma_i w_{io} o_i) \\times (1 - \\sigma(\\Sigma_i w_{io} o_i) \\times o_i$$"
   ],
   "metadata": {
    "collapsed": false,
    "pycharm": {
     "name": "#%% md\n"
    }
   }
  },
  {
   "cell_type": "markdown",
   "source": [
    "## Neural Network:"
   ],
   "metadata": {
    "collapsed": false,
    "pycharm": {
     "name": "#%% md\n"
    }
   }
  },
  {
   "cell_type": "code",
   "execution_count": 46,
   "outputs": [],
   "source": [
    "class NeuralNetwork:\n",
    "\n",
    "    @staticmethod\n",
    "    def activation_func(num: float) -> float:\n",
    "        # Sigmoid:\n",
    "        return 1 / (1 + np.exp(-num))\n",
    "\n",
    "    def __init__(self, inputs: int, hidden1: int, hidden2: int, output: int, learningspeed = 0.3) -> None:\n",
    "        self.innodes = inputs\n",
    "        self.hnnodes1 = hidden1\n",
    "        self.hnnodes2 = hidden2\n",
    "        self.ounodes = output\n",
    "        self.lr = learningspeed\n",
    "\n",
    "        # Initialize weights between nodes:\n",
    "        self.weights_in_hn1 = np.random.normal(0.0, (self.hnnodes1 ** -0.5),\n",
    "                                              (self.hnnodes1, self.innodes))\n",
    "        self.weights_hn1_hn2 = np.random.normal(0.0, (self.hnnodes2 ** -0.5),\n",
    "                                               (self.hnnodes2, self.hnnodes1))\n",
    "        self.weights_hn2_ou = np.random.normal(0.0, (self.ounodes ** -0.5),\n",
    "                                              (self.ounodes, self.hnnodes2))\n",
    "\n",
    "        #self.weights_in_hn1 = np.random.rand(self.hnnodes1, self.innodes) -0.5\n",
    "        #self.weights_hn1_hn2 = np.random.rand(self.hnnodes2, self.hnnodes1) -0.5\n",
    "        #self.weights_hn2_ou = np.random.rand(self.ounodes, self.hnnodes2) -0.5\n",
    "\n",
    "    def train(self, datapath: str, repeats: int) -> None:\n",
    "        for i in range(repeats):\n",
    "            data = MnistNum(datapath, i)\n",
    "            inputs = np.array(data.input_image, ndmin=2).T\n",
    "            targets = np.array(data.targets, ndmin=2).T\n",
    "\n",
    "            hidden_inputs1 = np.dot(self.weights_in_hn1, inputs)\n",
    "            hidden_outputs1 = self.activation_func(hidden_inputs1)\n",
    "\n",
    "            hidden_inputs2 =  np.dot(self.weights_hn1_hn2, hidden_outputs1)\n",
    "            hidden_outputs2 = self.activation_func(hidden_inputs2)\n",
    "\n",
    "            final_inputs = np.dot(self.weights_hn2_ou, hidden_outputs2)\n",
    "            final_outputs = self.activation_func(final_inputs)\n",
    "\n",
    "            output_errors = targets - final_outputs\n",
    "            hidden_errors2 = np.dot(self.weights_hn2_ou.T, output_errors)\n",
    "            hidden_errors1 = np.dot(self.weights_hn1_hn2.T, hidden_errors2)\n",
    "\n",
    "            # Reverse error distribution formula for network weights:\n",
    "            self.weights_in_hn1 += self.lr * np.dot(\n",
    "                (hidden_errors1 * hidden_outputs1 * (1.0 - hidden_outputs1)),\n",
    "                np.transpose(inputs))\n",
    "            self.weights_hn1_hn2 += self.lr * np.dot(\n",
    "                (hidden_errors2 * hidden_outputs2 * (1.0 - hidden_outputs2)),\n",
    "                np.transpose(hidden_outputs1))\n",
    "            self.weights_hn2_ou += self.lr * np.dot(\n",
    "                (output_errors * final_outputs * (1.0 - final_outputs)),\n",
    "                np.transpose(hidden_outputs2))\n",
    "\n",
    "    def query(self, datapath: str, repeats: int) -> None:\n",
    "        images = list()\n",
    "        # Multiply matrix's, sum and activate:\n",
    "        for i in range(repeats):\n",
    "            data = MnistNum(datapath, i)\n",
    "\n",
    "            images.append(data)\n",
    "\n",
    "            inputs = np.array(data.input_image, ndmin=2).T\n",
    "\n",
    "            hidden_inputs1 = np.dot(self.weights_in_hn1, inputs)\n",
    "            hidden_outputs1 = self.activation_func(hidden_inputs1)\n",
    "\n",
    "            hidden_inputs2 = np.dot(self.weights_hn1_hn2, hidden_outputs1)\n",
    "            hidden_outputs2 = self.activation_func(hidden_inputs2)\n",
    "\n",
    "            final_inputs = np.dot(self.weights_hn2_ou, hidden_outputs2)\n",
    "            final_outputs = self.activation_func(final_inputs)\n",
    "\n",
    "            print(f'Answer of neural network: {np.unravel_index(final_outputs.argmax(), final_outputs.shape)[0]}')\n",
    "            print(f'Num on image: {data.marker}:')\n",
    "            print(final_outputs, '\\n')\n",
    "\n",
    "        for data in images:\n",
    "            print(f'Target: {data.marker}')\n",
    "            plt.imshow(data.image, cmap='Greys', interpolation=None)\n",
    "            plt.show()"
   ],
   "metadata": {
    "collapsed": false,
    "pycharm": {
     "name": "#%%\n"
    }
   }
  },
  {
   "cell_type": "code",
   "execution_count": 47,
   "outputs": [
    {
     "name": "stdout",
     "output_type": "stream",
     "text": [
      "Answer of neural network: 7\n",
      "Num on image: 7:\n",
      "[[0.06323644]\n",
      " [0.0278944 ]\n",
      " [0.03098116]\n",
      " [0.08777218]\n",
      " [0.01934991]\n",
      " [0.04357039]\n",
      " [0.01710008]\n",
      " [0.76565678]\n",
      " [0.00247274]\n",
      " [0.04325641]] \n",
      "\n",
      "Answer of neural network: 2\n",
      "Num on image: 2:\n",
      "[[0.03618949]\n",
      " [0.02759611]\n",
      " [0.44495034]\n",
      " [0.07933034]\n",
      " [0.01504507]\n",
      " [0.1426783 ]\n",
      " [0.1964021 ]\n",
      " [0.00578222]\n",
      " [0.03272294]\n",
      " [0.00331003]] \n",
      "\n",
      "Answer of neural network: 1\n",
      "Num on image: 1:\n",
      "[[0.00385674]\n",
      " [0.78990058]\n",
      " [0.42734544]\n",
      " [0.02131139]\n",
      " [0.02018752]\n",
      " [0.05513877]\n",
      " [0.02698001]\n",
      " [0.04269361]\n",
      " [0.02675802]\n",
      " [0.01616724]] \n",
      "\n",
      "Answer of neural network: 0\n",
      "Num on image: 0:\n",
      "[[0.77029599]\n",
      " [0.00558585]\n",
      " [0.06345348]\n",
      " [0.05256219]\n",
      " [0.02607177]\n",
      " [0.13355227]\n",
      " [0.07038491]\n",
      " [0.08668303]\n",
      " [0.00759434]\n",
      " [0.00957176]] \n",
      "\n",
      "Answer of neural network: 4\n",
      "Num on image: 4:\n",
      "[[0.00891991]\n",
      " [0.02447424]\n",
      " [0.07102393]\n",
      " [0.02552551]\n",
      " [0.71744721]\n",
      " [0.025785  ]\n",
      " [0.03590075]\n",
      " [0.0681133 ]\n",
      " [0.0102821 ]\n",
      " [0.05952312]] \n",
      "\n",
      "Answer of neural network: 1\n",
      "Num on image: 1:\n",
      "[[0.00251062]\n",
      " [0.79416971]\n",
      " [0.32700547]\n",
      " [0.0231479 ]\n",
      " [0.06154529]\n",
      " [0.02996079]\n",
      " [0.00905945]\n",
      " [0.14122622]\n",
      " [0.02215143]\n",
      " [0.03364748]] \n",
      "\n",
      "Answer of neural network: 4\n",
      "Num on image: 4:\n",
      "[[0.00540125]\n",
      " [0.0444445 ]\n",
      " [0.05029606]\n",
      " [0.20312907]\n",
      " [0.44500889]\n",
      " [0.17322123]\n",
      " [0.00338846]\n",
      " [0.03229319]\n",
      " [0.06284043]\n",
      " [0.09417247]] \n",
      "\n",
      "Answer of neural network: 9\n",
      "Num on image: 9:\n",
      "[[0.00195889]\n",
      " [0.02950922]\n",
      " [0.01636452]\n",
      " [0.04195653]\n",
      " [0.34563696]\n",
      " [0.05005773]\n",
      " [0.0332347 ]\n",
      " [0.04408373]\n",
      " [0.03101489]\n",
      " [0.36883498]] \n",
      "\n",
      "Answer of neural network: 2\n",
      "Num on image: 5:\n",
      "[[0.12077445]\n",
      " [0.01513135]\n",
      " [0.50460404]\n",
      " [0.02689001]\n",
      " [0.15198077]\n",
      " [0.06881948]\n",
      " [0.34192363]\n",
      " [0.00518811]\n",
      " [0.0177033 ]\n",
      " [0.00503774]] \n",
      "\n",
      "Target: 7\n"
     ]
    },
    {
     "data": {
      "text/plain": "<Figure size 432x288 with 1 Axes>",
      "image/png": "[encoded data removed]"
     },
     "metadata": {
      "needs_background": "light"
     },
     "output_type": "display_data"
    },
    {
     "name": "stdout",
     "output_type": "stream",
     "text": [
      "Target: 2\n"
     ]
    },
    {
     "data": {
      "text/plain": "<Figure size 432x288 with 1 Axes>",
      "image/png": "[encoded data removed]"
     },
     "metadata": {
      "needs_background": "light"
     },
     "output_type": "display_data"
    },
    {
     "name": "stdout",
     "output_type": "stream",
     "text": [
      "Target: 1\n"
     ]
    },
    {
     "data": {
      "text/plain": "<Figure size 432x288 with 1 Axes>",
      "image/png": "[encoded data removed]"
     },
     "metadata": {
      "needs_background": "light"
     },
     "output_type": "display_data"
    },
    {
     "name": "stdout",
     "output_type": "stream",
     "text": [
      "Target: 0\n"
     ]
    },
    {
     "data": {
      "text/plain": "<Figure size 432x288 with 1 Axes>",
      "image/png": "[encoded data removed]"
     },
     "metadata": {
      "needs_background": "light"
     },
     "output_type": "display_data"
    },
    {
     "name": "stdout",
     "output_type": "stream",
     "text": [
      "Target: 4\n"
     ]
    },
    {
     "data": {
      "text/plain": "<Figure size 432x288 with 1 Axes>",
      "image/png": "[encoded data removed]"
     },
     "metadata": {
      "needs_background": "light"
     },
     "output_type": "display_data"
    },
    {
     "name": "stdout",
     "output_type": "stream",
     "text": [
      "Target: 1\n"
     ]
    },
    {
     "data": {
      "text/plain": "<Figure size 432x288 with 1 Axes>",
      "image/png": "[encoded data removed]"
     },
     "metadata": {
      "needs_background": "light"
     },
     "output_type": "display_data"
    },
    {
     "name": "stdout",
     "output_type": "stream",
     "text": [
      "Target: 4\n"
     ]
    },
    {
     "data": {
      "text/plain": "<Figure size 432x288 with 1 Axes>",
      "image/png": "[encoded data removed]"
     },
     "metadata": {
      "needs_background": "light"
     },
     "output_type": "display_data"
    },
    {
     "name": "stdout",
     "output_type": "stream",
     "text": [
      "Target: 9\n"
     ]
    },
    {
     "data": {
      "text/plain": "<Figure size 432x288 with 1 Axes>",
      "image/png": "[encoded data removed]"
     },
     "metadata": {
      "needs_background": "light"
     },
     "output_type": "display_data"
    },
    {
     "name": "stdout",
     "output_type": "stream",
     "text": [
      "Target: 5\n"
     ]
    },
    {
     "data": {
      "text/plain": "<Figure size 432x288 with 1 Axes>",
      "image/png": "[encoded data removed]"
     },
     "metadata": {
      "needs_background": "light"
     },
     "output_type": "display_data"
    }
   ],
   "source": [
    "test = NeuralNetwork(784, 64, 16, 10, 0.3)\n",
    "test.train(datapath='mnist_dataset/mnist_train.csv', repeats=2000)\n",
    "test.query(datapath='mnist_dataset/mnist_test_10.csv', repeats=9)\n",
    "# Answer show array with a preferred chance [0,1,2,3,4,5,6,7,8,9]"
   ],
   "metadata": {
    "collapsed": false,
    "pycharm": {
     "name": "#%%\n"
    }
   }
  }
 ],
 "metadata": {
  "kernelspec": {
   "display_name": "Python 3 (ipykernel)",
   "language": "python",
   "name": "python3"
  },
  "language_info": {
   "codemirror_mode": {
    "name": "ipython",
    "version": 3
   },
   "file_extension": ".py",
   "mimetype": "text/x-python",
   "name": "python",
   "nbconvert_exporter": "python",
   "pygments_lexer": "ipython3",
   "version": "3.9.12"
  }
 },
 "nbformat": 4,
 "nbformat_minor": 4
}